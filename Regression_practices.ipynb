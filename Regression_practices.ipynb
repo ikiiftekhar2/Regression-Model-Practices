{
  "nbformat": 4,
  "nbformat_minor": 0,
  "metadata": {
    "colab": {
      "name": "Regression practices.ipynb",
      "provenance": [],
      "collapsed_sections": []
    },
    "kernelspec": {
      "name": "python3",
      "display_name": "Python 3"
    },
    "language_info": {
      "name": "python"
    }
  },
  "cells": [
    {
      "cell_type": "code",
      "metadata": {
        "id": "feOBjFnLSUmj"
      },
      "source": [
        "#v1 of task 1 of learning ML\n",
        "#working with tensors and numpy"
      ],
      "execution_count": null,
      "outputs": []
    },
    {
      "cell_type": "code",
      "metadata": {
        "colab": {
          "base_uri": "https://localhost:8080/"
        },
        "id": "PxkbPhBSSre5",
        "outputId": "9ccc6f52-5282-4bb1-adf0-1d71da1fdde3"
      },
      "source": [
        "import tensorflow as tf \n",
        "print(tf.__version__)\n"
      ],
      "execution_count": 1,
      "outputs": [
        {
          "output_type": "stream",
          "name": "stdout",
          "text": [
            "2.6.0\n"
          ]
        }
      ]
    },
    {
      "cell_type": "markdown",
      "metadata": {
        "id": "e-UOVeH8wEnj"
      },
      "source": [
        "# **Predicting insurance charges based on age, sex, region, BMI, number of children and if the individual is a smoker**"
      ]
    },
    {
      "cell_type": "code",
      "metadata": {
        "colab": {
          "base_uri": "https://localhost:8080/"
        },
        "id": "J_1uPX8bp7YX",
        "outputId": "be167e8d-4fb1-444c-c7fc-dd8d7fd0a440"
      },
      "source": [
        "!wget https://raw.githubusercontent.com/mrdbourke/tensorflow-deep-learning/main/extras/helper_functions.py\n",
        "from helper_functions import *"
      ],
      "execution_count": 2,
      "outputs": [
        {
          "output_type": "stream",
          "name": "stdout",
          "text": [
            "--2021-11-08 17:47:52--  https://raw.githubusercontent.com/mrdbourke/tensorflow-deep-learning/main/extras/helper_functions.py\n",
            "Resolving raw.githubusercontent.com (raw.githubusercontent.com)... 185.199.108.133, 185.199.109.133, 185.199.110.133, ...\n",
            "Connecting to raw.githubusercontent.com (raw.githubusercontent.com)|185.199.108.133|:443... connected.\n",
            "HTTP request sent, awaiting response... 200 OK\n",
            "Length: 10246 (10K) [text/plain]\n",
            "Saving to: ‘helper_functions.py’\n",
            "\n",
            "\rhelper_functions.py   0%[                    ]       0  --.-KB/s               \rhelper_functions.py 100%[===================>]  10.01K  --.-KB/s    in 0s      \n",
            "\n",
            "2021-11-08 17:47:52 (82.7 MB/s) - ‘helper_functions.py’ saved [10246/10246]\n",
            "\n"
          ]
        }
      ]
    },
    {
      "cell_type": "code",
      "metadata": {
        "id": "iKeByrcjWLLw"
      },
      "source": [
        "import matplotlib.pyplot as plt\n",
        "import numpy as np \n",
        "import pandas as pd\n",
        "\n",
        "insurance = pd.read_csv(\"https://raw.githubusercontent.com/stedy/Machine-Learning-with-R-datasets/master/insurance.csv\")"
      ],
      "execution_count": 3,
      "outputs": []
    },
    {
      "cell_type": "code",
      "metadata": {
        "id": "49qmJG9SWR_A",
        "colab": {
          "base_uri": "https://localhost:8080/",
          "height": 417
        },
        "outputId": "c4827d7f-61dc-43f9-e54b-33ddb88c5d4a"
      },
      "source": [
        "insurance"
      ],
      "execution_count": 4,
      "outputs": [
        {
          "output_type": "execute_result",
          "data": {
            "text/html": [
              "<div>\n",
              "<style scoped>\n",
              "    .dataframe tbody tr th:only-of-type {\n",
              "        vertical-align: middle;\n",
              "    }\n",
              "\n",
              "    .dataframe tbody tr th {\n",
              "        vertical-align: top;\n",
              "    }\n",
              "\n",
              "    .dataframe thead th {\n",
              "        text-align: right;\n",
              "    }\n",
              "</style>\n",
              "<table border=\"1\" class=\"dataframe\">\n",
              "  <thead>\n",
              "    <tr style=\"text-align: right;\">\n",
              "      <th></th>\n",
              "      <th>age</th>\n",
              "      <th>sex</th>\n",
              "      <th>bmi</th>\n",
              "      <th>children</th>\n",
              "      <th>smoker</th>\n",
              "      <th>region</th>\n",
              "      <th>charges</th>\n",
              "    </tr>\n",
              "  </thead>\n",
              "  <tbody>\n",
              "    <tr>\n",
              "      <th>0</th>\n",
              "      <td>19</td>\n",
              "      <td>female</td>\n",
              "      <td>27.900</td>\n",
              "      <td>0</td>\n",
              "      <td>yes</td>\n",
              "      <td>southwest</td>\n",
              "      <td>16884.92400</td>\n",
              "    </tr>\n",
              "    <tr>\n",
              "      <th>1</th>\n",
              "      <td>18</td>\n",
              "      <td>male</td>\n",
              "      <td>33.770</td>\n",
              "      <td>1</td>\n",
              "      <td>no</td>\n",
              "      <td>southeast</td>\n",
              "      <td>1725.55230</td>\n",
              "    </tr>\n",
              "    <tr>\n",
              "      <th>2</th>\n",
              "      <td>28</td>\n",
              "      <td>male</td>\n",
              "      <td>33.000</td>\n",
              "      <td>3</td>\n",
              "      <td>no</td>\n",
              "      <td>southeast</td>\n",
              "      <td>4449.46200</td>\n",
              "    </tr>\n",
              "    <tr>\n",
              "      <th>3</th>\n",
              "      <td>33</td>\n",
              "      <td>male</td>\n",
              "      <td>22.705</td>\n",
              "      <td>0</td>\n",
              "      <td>no</td>\n",
              "      <td>northwest</td>\n",
              "      <td>21984.47061</td>\n",
              "    </tr>\n",
              "    <tr>\n",
              "      <th>4</th>\n",
              "      <td>32</td>\n",
              "      <td>male</td>\n",
              "      <td>28.880</td>\n",
              "      <td>0</td>\n",
              "      <td>no</td>\n",
              "      <td>northwest</td>\n",
              "      <td>3866.85520</td>\n",
              "    </tr>\n",
              "    <tr>\n",
              "      <th>...</th>\n",
              "      <td>...</td>\n",
              "      <td>...</td>\n",
              "      <td>...</td>\n",
              "      <td>...</td>\n",
              "      <td>...</td>\n",
              "      <td>...</td>\n",
              "      <td>...</td>\n",
              "    </tr>\n",
              "    <tr>\n",
              "      <th>1333</th>\n",
              "      <td>50</td>\n",
              "      <td>male</td>\n",
              "      <td>30.970</td>\n",
              "      <td>3</td>\n",
              "      <td>no</td>\n",
              "      <td>northwest</td>\n",
              "      <td>10600.54830</td>\n",
              "    </tr>\n",
              "    <tr>\n",
              "      <th>1334</th>\n",
              "      <td>18</td>\n",
              "      <td>female</td>\n",
              "      <td>31.920</td>\n",
              "      <td>0</td>\n",
              "      <td>no</td>\n",
              "      <td>northeast</td>\n",
              "      <td>2205.98080</td>\n",
              "    </tr>\n",
              "    <tr>\n",
              "      <th>1335</th>\n",
              "      <td>18</td>\n",
              "      <td>female</td>\n",
              "      <td>36.850</td>\n",
              "      <td>0</td>\n",
              "      <td>no</td>\n",
              "      <td>southeast</td>\n",
              "      <td>1629.83350</td>\n",
              "    </tr>\n",
              "    <tr>\n",
              "      <th>1336</th>\n",
              "      <td>21</td>\n",
              "      <td>female</td>\n",
              "      <td>25.800</td>\n",
              "      <td>0</td>\n",
              "      <td>no</td>\n",
              "      <td>southwest</td>\n",
              "      <td>2007.94500</td>\n",
              "    </tr>\n",
              "    <tr>\n",
              "      <th>1337</th>\n",
              "      <td>61</td>\n",
              "      <td>female</td>\n",
              "      <td>29.070</td>\n",
              "      <td>0</td>\n",
              "      <td>yes</td>\n",
              "      <td>northwest</td>\n",
              "      <td>29141.36030</td>\n",
              "    </tr>\n",
              "  </tbody>\n",
              "</table>\n",
              "<p>1338 rows × 7 columns</p>\n",
              "</div>"
            ],
            "text/plain": [
              "      age     sex     bmi  children smoker     region      charges\n",
              "0      19  female  27.900         0    yes  southwest  16884.92400\n",
              "1      18    male  33.770         1     no  southeast   1725.55230\n",
              "2      28    male  33.000         3     no  southeast   4449.46200\n",
              "3      33    male  22.705         0     no  northwest  21984.47061\n",
              "4      32    male  28.880         0     no  northwest   3866.85520\n",
              "...   ...     ...     ...       ...    ...        ...          ...\n",
              "1333   50    male  30.970         3     no  northwest  10600.54830\n",
              "1334   18  female  31.920         0     no  northeast   2205.98080\n",
              "1335   18  female  36.850         0     no  southeast   1629.83350\n",
              "1336   21  female  25.800         0     no  southwest   2007.94500\n",
              "1337   61  female  29.070         0    yes  northwest  29141.36030\n",
              "\n",
              "[1338 rows x 7 columns]"
            ]
          },
          "metadata": {},
          "execution_count": 4
        }
      ]
    },
    {
      "cell_type": "markdown",
      "metadata": {
        "id": "s4dq9Wztwcn9"
      },
      "source": [
        "Cleaning and preprocessing the data"
      ]
    },
    {
      "cell_type": "code",
      "metadata": {
        "id": "oSzEKDCXWkeW"
      },
      "source": [
        "from sklearn.model_selection import train_test_split\n",
        "from sklearn.compose import make_column_transformer\n",
        "from sklearn.preprocessing import MinMaxScaler, OneHotEncoder\n",
        "\n",
        "ct = make_column_transformer(\n",
        "    (MinMaxScaler(), [\"age\",\"bmi\",\"children\"]),\n",
        "    (OneHotEncoder(handle_unknown=\"ignore\"),[\"sex\",\"smoker\",\"region\"])\n",
        ")\n",
        "\n",
        "X = insurance.drop(\"charges\", axis = 1)\n",
        "Y = insurance[\"charges\"]\n",
        "\n",
        "X_train, X_test, y_train , y_test = train_test_split(X, Y, test_size=0.2, random_state=42)\n",
        "\n",
        "ct.fit(X_train)\n",
        "\n",
        "X_train_normal = ct.transform(X_train)\n",
        "X_test_normal = ct.transform(X_test)\n"
      ],
      "execution_count": 5,
      "outputs": []
    },
    {
      "cell_type": "code",
      "metadata": {
        "colab": {
          "base_uri": "https://localhost:8080/"
        },
        "id": "Wurl6iY0AryW",
        "outputId": "20600040-ad0f-4153-b45a-023408f9bf7a"
      },
      "source": [
        "X_train_normal.shape"
      ],
      "execution_count": 6,
      "outputs": [
        {
          "output_type": "execute_result",
          "data": {
            "text/plain": [
              "(1070, 11)"
            ]
          },
          "metadata": {},
          "execution_count": 6
        }
      ]
    },
    {
      "cell_type": "code",
      "metadata": {
        "id": "ELg4TGIT58vF"
      },
      "source": [
        "tf.random.set_seed(42)\n",
        "\n",
        "insurance_model = tf.keras.Sequential([\n",
        "                                       tf.keras.layers.Dense(10),\n",
        "                                       tf.keras.layers.Dense(100, activation=\"relu\"),\n",
        "                                       tf.keras.layers.Dense(1000, activation=\"relu\"),\n",
        "                                       tf.keras.layers.Dense(10000, activation=\"relu\"),\n",
        "                                       tf.keras.layers.Dense(1000, activation=\"relu\"),\n",
        "                                       tf.keras.layers.Dense(100, activation=\"relu\"),\n",
        "                                       tf.keras.layers.Dense(10, activation=\"relu\"),\n",
        "                                       tf.keras.layers.Dense(1)\n",
        "])\n",
        "\n",
        "insurance_model.compile(loss= tf.keras.losses.mean_absolute_error, optimizer=tf.keras.optimizers.Adam(), metrics = [\"mae\"])"
      ],
      "execution_count": 27,
      "outputs": []
    },
    {
      "cell_type": "markdown",
      "metadata": {
        "id": "-2Pm3rLfwlMj"
      },
      "source": [
        "Finding the optimum learning rate and fitting the model"
      ]
    },
    {
      "cell_type": "code",
      "metadata": {
        "colab": {
          "base_uri": "https://localhost:8080/"
        },
        "id": "ZYobqwHRps9n",
        "outputId": "0a8255c5-c04a-4b5a-c55a-73106dfe564a"
      },
      "source": [
        "lr_scheduler = tf.keras.callbacks.LearningRateScheduler(lambda epoch: 1e-4 * 10**(epoch/20)) \n",
        "history = insurance_model.fit(X_train_normal, \n",
        "                      y_train, \n",
        "                      epochs=100)\n"
      ],
      "execution_count": 29,
      "outputs": [
        {
          "output_type": "stream",
          "name": "stdout",
          "text": [
            "Epoch 1/100\n",
            "34/34 [==============================] - 7s 188ms/step - loss: 10750.2930 - mae: 10750.2930\n",
            "Epoch 2/100\n",
            "34/34 [==============================] - 7s 206ms/step - loss: 6737.9800 - mae: 6737.9800\n",
            "Epoch 3/100\n",
            "34/34 [==============================] - 8s 224ms/step - loss: 4351.2446 - mae: 4351.2446\n",
            "Epoch 4/100\n",
            "34/34 [==============================] - 6s 190ms/step - loss: 3473.6985 - mae: 3473.6985\n",
            "Epoch 5/100\n",
            "34/34 [==============================] - 6s 189ms/step - loss: 3199.4187 - mae: 3199.4187\n",
            "Epoch 6/100\n",
            "34/34 [==============================] - 6s 189ms/step - loss: 3038.2295 - mae: 3038.2295\n",
            "Epoch 7/100\n",
            "34/34 [==============================] - 6s 188ms/step - loss: 3014.6423 - mae: 3014.6423\n",
            "Epoch 8/100\n",
            "34/34 [==============================] - 6s 188ms/step - loss: 2948.4939 - mae: 2948.4939\n",
            "Epoch 9/100\n",
            "34/34 [==============================] - 6s 189ms/step - loss: 2878.4133 - mae: 2878.4133\n",
            "Epoch 10/100\n",
            "34/34 [==============================] - 6s 189ms/step - loss: 2758.3208 - mae: 2758.3208\n",
            "Epoch 11/100\n",
            "34/34 [==============================] - 6s 189ms/step - loss: 2535.9182 - mae: 2535.9182\n",
            "Epoch 12/100\n",
            "34/34 [==============================] - 6s 190ms/step - loss: 2481.2473 - mae: 2481.2473\n",
            "Epoch 13/100\n",
            "34/34 [==============================] - 6s 190ms/step - loss: 2374.9771 - mae: 2374.9771\n",
            "Epoch 14/100\n",
            "34/34 [==============================] - 6s 189ms/step - loss: 2480.6348 - mae: 2480.6348\n",
            "Epoch 15/100\n",
            "34/34 [==============================] - 6s 191ms/step - loss: 2377.5615 - mae: 2377.5615\n",
            "Epoch 16/100\n",
            "34/34 [==============================] - 6s 189ms/step - loss: 2310.5330 - mae: 2310.5330\n",
            "Epoch 17/100\n",
            "34/34 [==============================] - 6s 190ms/step - loss: 2115.7859 - mae: 2115.7859\n",
            "Epoch 18/100\n",
            "34/34 [==============================] - 6s 189ms/step - loss: 2240.2866 - mae: 2240.2866\n",
            "Epoch 19/100\n",
            "34/34 [==============================] - 7s 191ms/step - loss: 2210.9541 - mae: 2210.9541\n",
            "Epoch 20/100\n",
            "34/34 [==============================] - 6s 191ms/step - loss: 2259.4685 - mae: 2259.4685\n",
            "Epoch 21/100\n",
            "34/34 [==============================] - 7s 192ms/step - loss: 2120.5908 - mae: 2120.5908\n",
            "Epoch 22/100\n",
            "34/34 [==============================] - 7s 191ms/step - loss: 2281.9790 - mae: 2281.9790\n",
            "Epoch 23/100\n",
            "34/34 [==============================] - 6s 190ms/step - loss: 2114.1365 - mae: 2114.1365\n",
            "Epoch 24/100\n",
            "34/34 [==============================] - 7s 192ms/step - loss: 2103.1438 - mae: 2103.1438\n",
            "Epoch 25/100\n",
            "34/34 [==============================] - 6s 190ms/step - loss: 2165.8206 - mae: 2165.8206\n",
            "Epoch 26/100\n",
            "34/34 [==============================] - 6s 191ms/step - loss: 2282.2375 - mae: 2282.2375\n",
            "Epoch 27/100\n",
            "34/34 [==============================] - 6s 189ms/step - loss: 2198.4543 - mae: 2198.4543\n",
            "Epoch 28/100\n",
            "34/34 [==============================] - 6s 188ms/step - loss: 2233.5391 - mae: 2233.5391\n",
            "Epoch 29/100\n",
            "34/34 [==============================] - 6s 190ms/step - loss: 2294.8262 - mae: 2294.8262\n",
            "Epoch 30/100\n",
            "34/34 [==============================] - 7s 192ms/step - loss: 2260.2773 - mae: 2260.2773\n",
            "Epoch 31/100\n",
            "34/34 [==============================] - 6s 191ms/step - loss: 2097.6450 - mae: 2097.6450\n",
            "Epoch 32/100\n",
            "34/34 [==============================] - 6s 190ms/step - loss: 2060.3137 - mae: 2060.3137\n",
            "Epoch 33/100\n",
            "34/34 [==============================] - 6s 190ms/step - loss: 2030.7096 - mae: 2030.7096\n",
            "Epoch 34/100\n",
            "34/34 [==============================] - 7s 191ms/step - loss: 1988.0103 - mae: 1988.0103\n",
            "Epoch 35/100\n",
            "34/34 [==============================] - 7s 196ms/step - loss: 1994.0399 - mae: 1994.0399\n",
            "Epoch 36/100\n",
            "34/34 [==============================] - 7s 199ms/step - loss: 2010.7668 - mae: 2010.7668\n",
            "Epoch 37/100\n",
            "34/34 [==============================] - 7s 192ms/step - loss: 2126.1624 - mae: 2126.1624\n",
            "Epoch 38/100\n",
            "34/34 [==============================] - 6s 189ms/step - loss: 2046.4988 - mae: 2046.4988\n",
            "Epoch 39/100\n",
            "34/34 [==============================] - 6s 189ms/step - loss: 1969.9019 - mae: 1969.9019\n",
            "Epoch 40/100\n",
            "34/34 [==============================] - 6s 190ms/step - loss: 2028.1956 - mae: 2028.1956\n",
            "Epoch 41/100\n",
            "34/34 [==============================] - 6s 190ms/step - loss: 1931.7317 - mae: 1931.7317\n",
            "Epoch 42/100\n",
            "34/34 [==============================] - 6s 190ms/step - loss: 1952.0854 - mae: 1952.0854\n",
            "Epoch 43/100\n",
            "34/34 [==============================] - 6s 190ms/step - loss: 1985.9553 - mae: 1985.9553\n",
            "Epoch 44/100\n",
            "34/34 [==============================] - 6s 190ms/step - loss: 1926.3511 - mae: 1926.3511\n",
            "Epoch 45/100\n",
            "34/34 [==============================] - 7s 194ms/step - loss: 1899.9099 - mae: 1899.9099\n",
            "Epoch 46/100\n",
            "34/34 [==============================] - 7s 200ms/step - loss: 1977.7975 - mae: 1977.7975\n",
            "Epoch 47/100\n",
            "34/34 [==============================] - 7s 200ms/step - loss: 2045.3947 - mae: 2045.3947\n",
            "Epoch 48/100\n",
            "34/34 [==============================] - 7s 195ms/step - loss: 2048.0945 - mae: 2048.0945\n",
            "Epoch 49/100\n",
            "34/34 [==============================] - 7s 200ms/step - loss: 1959.9801 - mae: 1959.9801\n",
            "Epoch 50/100\n",
            "34/34 [==============================] - 7s 199ms/step - loss: 2062.7795 - mae: 2062.7795\n",
            "Epoch 51/100\n",
            "34/34 [==============================] - 7s 193ms/step - loss: 1936.4957 - mae: 1936.4957\n",
            "Epoch 52/100\n",
            "34/34 [==============================] - 6s 190ms/step - loss: 1937.6318 - mae: 1937.6318\n",
            "Epoch 53/100\n",
            "34/34 [==============================] - 6s 190ms/step - loss: 1870.2689 - mae: 1870.2689\n",
            "Epoch 54/100\n",
            "34/34 [==============================] - 6s 188ms/step - loss: 1953.5305 - mae: 1953.5305\n",
            "Epoch 55/100\n",
            "34/34 [==============================] - 6s 188ms/step - loss: 1854.2506 - mae: 1854.2506\n",
            "Epoch 56/100\n",
            "34/34 [==============================] - 6s 188ms/step - loss: 1881.8038 - mae: 1881.8038\n",
            "Epoch 57/100\n",
            "34/34 [==============================] - 6s 189ms/step - loss: 1914.8984 - mae: 1914.8984\n",
            "Epoch 58/100\n",
            "34/34 [==============================] - 7s 192ms/step - loss: 1846.0696 - mae: 1846.0696\n",
            "Epoch 59/100\n",
            "34/34 [==============================] - 7s 196ms/step - loss: 1786.7972 - mae: 1786.7972\n",
            "Epoch 60/100\n",
            "34/34 [==============================] - 7s 191ms/step - loss: 1831.9769 - mae: 1831.9769\n",
            "Epoch 61/100\n",
            "34/34 [==============================] - 6s 189ms/step - loss: 1790.0514 - mae: 1790.0514\n",
            "Epoch 62/100\n",
            "34/34 [==============================] - 6s 189ms/step - loss: 1811.6824 - mae: 1811.6824\n",
            "Epoch 63/100\n",
            "34/34 [==============================] - 6s 189ms/step - loss: 1772.1754 - mae: 1772.1754\n",
            "Epoch 64/100\n",
            "34/34 [==============================] - 6s 190ms/step - loss: 1865.4279 - mae: 1865.4279\n",
            "Epoch 65/100\n",
            "34/34 [==============================] - 6s 188ms/step - loss: 1897.7643 - mae: 1897.7643\n",
            "Epoch 66/100\n",
            "34/34 [==============================] - 6s 189ms/step - loss: 1874.1317 - mae: 1874.1317\n",
            "Epoch 67/100\n",
            "34/34 [==============================] - 7s 198ms/step - loss: 1876.6991 - mae: 1876.6991\n",
            "Epoch 68/100\n",
            "34/34 [==============================] - 6s 190ms/step - loss: 1821.9321 - mae: 1821.9321\n",
            "Epoch 69/100\n",
            "34/34 [==============================] - 6s 189ms/step - loss: 1782.6935 - mae: 1782.6935\n",
            "Epoch 70/100\n",
            "34/34 [==============================] - 6s 189ms/step - loss: 1774.3568 - mae: 1774.3568\n",
            "Epoch 71/100\n",
            "34/34 [==============================] - 6s 189ms/step - loss: 1779.4805 - mae: 1779.4805\n",
            "Epoch 72/100\n",
            "34/34 [==============================] - 6s 190ms/step - loss: 1775.5200 - mae: 1775.5200\n",
            "Epoch 73/100\n",
            "34/34 [==============================] - 6s 189ms/step - loss: 2160.5879 - mae: 2160.5879\n",
            "Epoch 74/100\n",
            "34/34 [==============================] - 6s 188ms/step - loss: 1734.8821 - mae: 1734.8821\n",
            "Epoch 75/100\n",
            "34/34 [==============================] - 6s 189ms/step - loss: 1841.1429 - mae: 1841.1429\n",
            "Epoch 76/100\n",
            "34/34 [==============================] - 6s 190ms/step - loss: 1779.9880 - mae: 1779.9880\n",
            "Epoch 77/100\n",
            "34/34 [==============================] - 7s 192ms/step - loss: 1827.6427 - mae: 1827.6427\n",
            "Epoch 78/100\n",
            "34/34 [==============================] - 7s 192ms/step - loss: 1722.2401 - mae: 1722.2401\n",
            "Epoch 79/100\n",
            "34/34 [==============================] - 6s 190ms/step - loss: 1801.7230 - mae: 1801.7230\n",
            "Epoch 80/100\n",
            "34/34 [==============================] - 6s 188ms/step - loss: 1761.3540 - mae: 1761.3540\n",
            "Epoch 81/100\n",
            "34/34 [==============================] - 7s 193ms/step - loss: 1719.9661 - mae: 1719.9661\n",
            "Epoch 82/100\n",
            "34/34 [==============================] - 7s 193ms/step - loss: 1992.4990 - mae: 1992.4990\n",
            "Epoch 83/100\n",
            "34/34 [==============================] - 6s 191ms/step - loss: 1848.5555 - mae: 1848.5555\n",
            "Epoch 84/100\n",
            "34/34 [==============================] - 6s 190ms/step - loss: 1747.4314 - mae: 1747.4314\n",
            "Epoch 85/100\n",
            "34/34 [==============================] - 6s 190ms/step - loss: 1702.7303 - mae: 1702.7303\n",
            "Epoch 86/100\n",
            "34/34 [==============================] - 6s 191ms/step - loss: 1672.7756 - mae: 1672.7756\n",
            "Epoch 87/100\n",
            "34/34 [==============================] - 6s 190ms/step - loss: 1730.1095 - mae: 1730.1095\n",
            "Epoch 88/100\n",
            "34/34 [==============================] - 6s 189ms/step - loss: 1709.1034 - mae: 1709.1034\n",
            "Epoch 89/100\n",
            "34/34 [==============================] - 6s 189ms/step - loss: 1639.8539 - mae: 1639.8539\n",
            "Epoch 90/100\n",
            "34/34 [==============================] - 7s 193ms/step - loss: 1708.9514 - mae: 1708.9514\n",
            "Epoch 91/100\n",
            "34/34 [==============================] - 6s 189ms/step - loss: 1754.7792 - mae: 1754.7792\n",
            "Epoch 92/100\n",
            "34/34 [==============================] - 7s 191ms/step - loss: 1717.8833 - mae: 1717.8833\n",
            "Epoch 93/100\n",
            "34/34 [==============================] - 6s 189ms/step - loss: 1650.6904 - mae: 1650.6904\n",
            "Epoch 94/100\n",
            "34/34 [==============================] - 7s 197ms/step - loss: 1699.2495 - mae: 1699.2495\n",
            "Epoch 95/100\n",
            "34/34 [==============================] - 7s 199ms/step - loss: 1775.2700 - mae: 1775.2700\n",
            "Epoch 96/100\n",
            "34/34 [==============================] - 8s 235ms/step - loss: 1706.2173 - mae: 1706.2173\n",
            "Epoch 97/100\n",
            "34/34 [==============================] - 7s 197ms/step - loss: 1680.0680 - mae: 1680.0680\n",
            "Epoch 98/100\n",
            "34/34 [==============================] - 7s 195ms/step - loss: 1691.9559 - mae: 1691.9559\n",
            "Epoch 99/100\n",
            "34/34 [==============================] - 7s 198ms/step - loss: 1739.8019 - mae: 1739.8019\n",
            "Epoch 100/100\n",
            "34/34 [==============================] - 7s 195ms/step - loss: 1766.3676 - mae: 1766.3676\n"
          ]
        }
      ]
    },
    {
      "cell_type": "markdown",
      "metadata": {
        "id": "_F-q2M2vxVQF"
      },
      "source": [
        "Plotting loss curves and learning rate relations"
      ]
    },
    {
      "cell_type": "code",
      "metadata": {
        "colab": {
          "base_uri": "https://localhost:8080/",
          "height": 462
        },
        "id": "O-Ui21WoqpxP",
        "outputId": "695affe9-9e7e-4c2b-9202-006fb782eb7b"
      },
      "source": [
        "lrs = 1e-4 * (10 ** (np.arange(100)/20))\n",
        "plt.figure(figsize=(10, 7))\n",
        "plt.semilogx(lrs, history.history[\"loss\"]) # we want the x-axis (learning rate) to be log scale\n",
        "plt.xlabel(\"Learning Rate\")\n",
        "plt.ylabel(\"Loss\")\n",
        "plt.title(\"Learning rate vs. loss\");"
      ],
      "execution_count": 16,
      "outputs": [
        {
          "output_type": "display_data",
          "data": {
            "image/png": "[encoded data removed]",
            "text/plain": [
              "<Figure size 720x504 with 1 Axes>"
            ]
          },
          "metadata": {
            "needs_background": "light"
          }
        }
      ]
    },
    {
      "cell_type": "code",
      "metadata": {
        "colab": {
          "base_uri": "https://localhost:8080/",
          "height": 442
        },
        "id": "GO_eAozexi8y",
        "outputId": "e9f0d443-4f19-4cab-bf9b-a5e63208e156"
      },
      "source": [
        "pd.DataFrame(history.history).plot(figsize=(10,7), xlabel=\"epochs\");"
      ],
      "execution_count": 32,
      "outputs": [
        {
          "output_type": "display_data",
          "data": {
            "image/png": "[encoded data removed]",
            "text/plain": [
              "<Figure size 720x504 with 1 Axes>"
            ]
          },
          "metadata": {
            "needs_background": "light"
          }
        }
      ]
    },
    {
      "cell_type": "markdown",
      "metadata": {
        "id": "Zr4YPIHXxQWV"
      },
      "source": [
        "Evaluting the Model\n"
      ]
    },
    {
      "cell_type": "code",
      "metadata": {
        "colab": {
          "base_uri": "https://localhost:8080/"
        },
        "id": "UsKKC4wF9afV",
        "outputId": "2c2acfa0-06b0-4f51-daad-602c1f3bb963"
      },
      "source": [
        "insurance_model.evaluate(X_test_normal,y_test)"
      ],
      "execution_count": 30,
      "outputs": [
        {
          "output_type": "stream",
          "name": "stdout",
          "text": [
            "9/9 [==============================] - 1s 41ms/step - loss: 1801.5175 - mae: 1801.5175\n"
          ]
        },
        {
          "output_type": "execute_result",
          "data": {
            "text/plain": [
              "[1801.5174560546875, 1801.5174560546875]"
            ]
          },
          "metadata": {},
          "execution_count": 30
        }
      ]
    },
    {
      "cell_type": "code",
      "metadata": {
        "id": "96RcrtJOw5yj"
      },
      "source": [
        ""
      ],
      "execution_count": null,
      "outputs": []
    }
  ]
}